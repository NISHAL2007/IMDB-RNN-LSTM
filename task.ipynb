{
 "cells": [
  {
   "cell_type": "code",
   "execution_count": 2,
   "id": "f3ed8594",
   "metadata": {},
   "outputs": [
    {
     "name": "stdout",
     "output_type": "stream",
     "text": [
      "Device selected: cuda\n"
     ]
    }
   ],
   "source": [
    "import torch\n",
    "import torch.nn as nn\n",
    "import torch.optim as optim\n",
    "import pandas as pd\n",
    "import numpy as np\n",
    "\n",
    "device = torch.device('cuda' if torch.cuda.is_available() else 'cpu')\n",
    "print(\"Device selected:\", device)"
   ]
  },
  {
   "cell_type": "code",
   "execution_count": 3,
   "id": "cf6f048d",
   "metadata": {},
   "outputs": [
    {
     "name": "stdout",
     "output_type": "stream",
     "text": [
      "Shape of dataset: (50000, 2)\n",
      "                                              review sentiment\n",
      "0  One of the other reviewers has mentioned that ...  positive\n",
      "1  A wonderful little production. <br /><br />The...  positive\n",
      "2  I thought this was a wonderful way to spend ti...  positive\n",
      "3  Basically there's a family where a little boy ...  negative\n",
      "4  Petter Mattei's \"Love in the Time of Money\" is...  positive\n"
     ]
    }
   ],
   "source": [
    "df = pd.read_csv('IMDB Dataset.csv')\n",
    "\n",
    "print(\"Shape of dataset:\", df.shape)\n",
    "print(df.head())"
   ]
  },
  {
   "cell_type": "code",
   "execution_count": 4,
   "id": "3a16fe31",
   "metadata": {},
   "outputs": [
    {
     "name": "stdout",
     "output_type": "stream",
     "text": [
      "Examples after cleaning:\n",
      "thats what i kept asking myself during the many fights screaming matches swearing and general mayhem that permeate the minutes the comparisons also stand up when you think of the onedimensional characters who have so little depth that it is virtually impossible to care what happens to them they are just badly written cyphers for the director to hang his multicultural beliefs on a topic that has been done much better in other dramas both on tv and the cinemai must confess im not really one for spotting bad performances during a film but it must be said that nichola burley as the heroines slutty best friend and wasim zakir as the nasty bullying brother were absolutely terrible i dont know what acting school they graduated from but if i was them id apply for a full refund post haste only samina awan in the lead role manages to impress in a cast of socalled british talent that well probably never hear from again at least thats the hope next time hire a different scoutanother intriguing thought is the hideously fashionable soundtrack featuring the likes of snow patrol ian brown and keane now im a bit of a music fan and im familiar with most of these artists output but i didnt recognise any of the tracks during this movie apart from the omnipresent run bsides anyone we get many many musical montages which telegraph how were suppose to feel these are accompanied by such startlingly original images as couples kissing by a swollen lake and canoodling in doorways this is a problem as none of the songs convey the mood efficiently and we realise the director lacks the ability to carry the emotional journey to the audience through storytelling and dialogue alonethe ending is presumably meant to be just desserts as everybody gets their comeuppance and there is at least one big shock in store but i remained resolutely unmoved because the script had given me noone to root for its not enough to tackle a hotbutton issue you have to actually give us a plot that hasnt already been done to death and individuals who are more than window dressing as it stands this film is a noble failure with only the promising lead actress and a few mildly diverting punchups to save it from the bin must try harder\n",
      "Class: 0\n"
     ]
    }
   ],
   "source": [
    "import re\n",
    "from sklearn.model_selection import train_test_split\n",
    "from sklearn.preprocessing import LabelEncoder\n",
    "\n",
    "def clean_text(text):\n",
    "    text = text.lower()\n",
    "    text = re.sub(r'<.*?>', '', text)  \n",
    "    text = re.sub(r'[^a-z\\s]', '', text)  \n",
    "    text = re.sub(r'\\s+', ' ', text).strip()  \n",
    "    return text\n",
    "\n",
    "df['review'] = df['review'].apply(clean_text)\n",
    "\n",
    "label_encoder = LabelEncoder()\n",
    "df['sentiment'] = label_encoder.fit_transform(df['sentiment'])\n",
    "\n",
    "X_train, X_test, y_train, y_test = train_test_split(\n",
    "    df['review'], df['sentiment'], test_size=0.2, random_state=42\n",
    ")\n",
    "\n",
    "print(\"Examples after cleaning:\")\n",
    "print(X_train.iloc[0])\n",
    "print(\"Class:\", y_train.iloc[0])"
   ]
  },
  {
   "cell_type": "code",
   "execution_count": 5,
   "id": "ce8d6984",
   "metadata": {},
   "outputs": [
    {
     "name": "stdout",
     "output_type": "stream",
     "text": [
      "Vocabulary size: 186360\n",
      "Padded example review (tensor): tensor([  2,   3,   4,   5,   6,   7,   8,   9,  10,  11,  12,  13,  14,  15,\n",
      "         16,  17,  18,  19,   9,  20,   9,  21,  22,  23,  24,  25,  26,  27,\n",
      "         28,   9,  29,  30,  31,  32,  33,  34,  35,  18,  36,  37,  38,  39,\n",
      "         40,  41,   3,  42,  40,  43,  44,  45,  46,  47,  48,  49,  50,   9,\n",
      "         51,  40,  52,  53,  54,  55,  56,  57,  58,  18,  59,  60,  61,  62,\n",
      "         63,  64,  65,  66,  67,  56,  68,  15,   9,  69,  70,  71,  72,  73,\n",
      "         74,  75,  50,  76,  77,  78,   8,  57,  79,  80,  36,  70,  81,  82,\n",
      "         18,  83,  84,  85,   9,  86,  87,  88,  89,  15,  90,  91,  85,   9,\n",
      "         92,  93,  94,  95,  96,  97,   4,  98,  99,   3, 100, 101,  44, 102,\n",
      "        103,  80, 104,   4, 105,  43, 106, 107,  50,  57, 108, 109, 110, 111,\n",
      "        112, 113, 114,  64,   9, 115, 116, 117,  40, 118,  64,  57, 119,  28,\n",
      "        120, 121, 122,  18, 123, 124, 125, 126, 103, 127, 128, 129,   2,   9,\n",
      "        130, 131, 132, 133,  57, 134, 135, 136, 137,  37,   9, 138, 139, 140,\n",
      "        141,   9, 142,  28, 143, 144, 145, 146,  15, 147, 148,  72,  57, 149,\n",
      "         28,  57, 150, 151])\n"
     ]
    }
   ],
   "source": [
    "from collections import Counter\n",
    "\n",
    "def tokenize(text):\n",
    "    return text.split()\n",
    "\n",
    "all_tokens = []\n",
    "for review in X_train:\n",
    "    all_tokens.extend(tokenize(review))\n",
    "\n",
    "vocab_counter = Counter(all_tokens)\n",
    "vocab = {word: idx+2 for idx, (word, _) in enumerate(vocab_counter.items())} \n",
    "vocab_size = len(vocab) + 2  \n",
    "\n",
    "def encode_review(text, vocab):\n",
    "    return [vocab.get(word, 1) for word in tokenize(text)] \n",
    "\n",
    "import torch\n",
    "\n",
    "MAX_LEN = 200\n",
    "\n",
    "def process_reviews(reviews, vocab, max_len=MAX_LEN):\n",
    "    encoded = [torch.tensor(encode_review(review, vocab))[:max_len] for review in reviews]\n",
    "    padded = []\n",
    "    for seq in encoded:\n",
    "        length = len(seq)\n",
    "        if length < max_len:\n",
    "            pad = torch.zeros(max_len - length, dtype=torch.long)\n",
    "            seq = torch.cat([seq, pad])\n",
    "        else:\n",
    "            seq = seq[:max_len]\n",
    "        padded.append(seq)\n",
    "    padded_tensor = torch.stack(padded)\n",
    "    return padded_tensor\n",
    "\n",
    "X_train_seq = process_reviews(X_train, vocab, MAX_LEN)\n",
    "X_test_seq = process_reviews(X_test, vocab, MAX_LEN)\n",
    "\n",
    "y_train_tensor = torch.tensor(np.array(y_train)).long()\n",
    "y_test_tensor = torch.tensor(np.array(y_test)).long()\n",
    "\n",
    "print(\"Vocabulary size:\", vocab_size)\n",
    "print(\"Padded example review (tensor):\", X_train_seq[0])"
   ]
  },
  {
   "cell_type": "code",
   "execution_count": 6,
   "id": "24898db7",
   "metadata": {},
   "outputs": [
    {
     "name": "stdout",
     "output_type": "stream",
     "text": [
      "LSTMClassifier(\n",
      "  (embedding): Embedding(186360, 128, padding_idx=0)\n",
      "  (lstm): LSTM(128, 128, batch_first=True)\n",
      "  (fc): Linear(in_features=128, out_features=2, bias=True)\n",
      "  (dropout): Dropout(p=0.5, inplace=False)\n",
      ")\n"
     ]
    }
   ],
   "source": [
    "class LSTMClassifier(nn.Module):\n",
    "    def __init__(self, vocab_size, embed_dim, hidden_dim, num_classes=2, num_layers=1):\n",
    "        super(LSTMClassifier, self).__init__()\n",
    "        self.embedding = nn.Embedding(vocab_size, embed_dim, padding_idx=0)\n",
    "        self.lstm = nn.LSTM(embed_dim, hidden_dim, num_layers=num_layers, batch_first=True)\n",
    "        self.fc = nn.Linear(hidden_dim, num_classes)\n",
    "        self.dropout = nn.Dropout(0.5)\n",
    "\n",
    "    def forward(self, x):\n",
    "        x = self.embedding(x)\n",
    "        out, (hn, cn) = self.lstm(x)\n",
    "        out = out[:, -1, :]\n",
    "        out = self.dropout(out)\n",
    "        logits = self.fc(out)\n",
    "        return logits\n",
    "\n",
    "EMBED_DIM = 128\n",
    "HIDDEN_DIM = 128\n",
    "NUM_LAYERS = 1\n",
    "NUM_CLASSES = 2\n",
    "\n",
    "model = LSTMClassifier(vocab_size=vocab_size, embed_dim=EMBED_DIM,\n",
    "                       hidden_dim=HIDDEN_DIM, num_classes=NUM_CLASSES,\n",
    "                       num_layers=NUM_LAYERS).to(device)\n",
    "\n",
    "print(model)\n"
   ]
  },
  {
   "cell_type": "code",
   "execution_count": 7,
   "id": "547d2e8a",
   "metadata": {},
   "outputs": [
    {
     "name": "stdout",
     "output_type": "stream",
     "text": [
      "Train loader batches: 313\n",
      "Test loader batches: 79\n"
     ]
    }
   ],
   "source": [
    "from torch.utils.data import TensorDataset, DataLoader\n",
    "\n",
    "BATCH_SIZE = 128\n",
    "\n",
    "train_data = TensorDataset(X_train_seq, y_train_tensor)\n",
    "test_data = TensorDataset(X_test_seq, y_test_tensor)\n",
    "\n",
    "train_loader = DataLoader(train_data, batch_size=BATCH_SIZE, shuffle=True)\n",
    "test_loader = DataLoader(test_data, batch_size=BATCH_SIZE)\n",
    "\n",
    "criterion = nn.CrossEntropyLoss()\n",
    "optimizer = optim.Adam(model.parameters(), lr=0.001)\n",
    "\n",
    "print(\"Train loader batches:\", len(train_loader))\n",
    "print(\"Test loader batches:\", len(test_loader))"
   ]
  },
  {
   "cell_type": "code",
   "execution_count": 8,
   "id": "479473e0",
   "metadata": {},
   "outputs": [
    {
     "name": "stdout",
     "output_type": "stream",
     "text": [
      "Batch 50/313 - Loss: 0.6966\n",
      "Batch 100/313 - Loss: 0.6852\n",
      "Batch 150/313 - Loss: 0.7119\n",
      "Batch 200/313 - Loss: 0.6821\n",
      "Batch 250/313 - Loss: 0.6904\n",
      "Batch 300/313 - Loss: 0.6976\n"
     ]
    }
   ],
   "source": [
    "model.train()\n",
    "for batch_idx, (inputs, targets) in enumerate(train_loader):\n",
    "    inputs, targets = inputs.to(device), targets.to(device)\n",
    "\n",
    "    optimizer.zero_grad()\n",
    "    outputs = model(inputs)\n",
    "    loss = criterion(outputs, targets)\n",
    "\n",
    "    loss.backward()\n",
    "    optimizer.step()\n",
    "\n",
    "    if (batch_idx + 1) % 50 == 0:\n",
    "        print(f\"Batch {batch_idx+1}/{len(train_loader)} - Loss: {loss.item():.4f}\")"
   ]
  },
  {
   "cell_type": "code",
   "execution_count": 9,
   "id": "358a3723",
   "metadata": {},
   "outputs": [
    {
     "name": "stdout",
     "output_type": "stream",
     "text": [
      "Epoch 1/10 - Average Loss: 0.6846\n",
      "Epoch 2/10 - Average Loss: 0.6874\n",
      "Epoch 3/10 - Average Loss: 0.6850\n",
      "Epoch 4/10 - Average Loss: 0.6701\n",
      "Epoch 5/10 - Average Loss: 0.6396\n",
      "Epoch 6/10 - Average Loss: 0.6564\n",
      "Epoch 7/10 - Average Loss: 0.6729\n",
      "Epoch 8/10 - Average Loss: 0.5967\n",
      "Epoch 9/10 - Average Loss: 0.4320\n",
      "Epoch 10/10 - Average Loss: 0.3880\n",
      "Training complete!\n"
     ]
    }
   ],
   "source": [
    "NUM_EPOCHS = 10\n",
    "\n",
    "for epoch in range(NUM_EPOCHS):\n",
    "    model.train()\n",
    "    epoch_loss = 0\n",
    "    for batch_idx, (inputs, targets) in enumerate(train_loader):\n",
    "        inputs, targets = inputs.to(device), targets.to(device)\n",
    "\n",
    "        optimizer.zero_grad()\n",
    "        outputs = model(inputs)\n",
    "        loss = criterion(outputs, targets)\n",
    "\n",
    "        loss.backward()\n",
    "        optimizer.step()\n",
    "\n",
    "        epoch_loss += loss.item()\n",
    "\n",
    "    avg_loss = epoch_loss / len(train_loader)\n",
    "    print(f\"Epoch {epoch+1}/{NUM_EPOCHS} - Average Loss: {avg_loss:.4f}\")\n",
    "\n",
    "print(\"Training complete!\")\n"
   ]
  },
  {
   "cell_type": "code",
   "execution_count": 10,
   "id": "65a0ff24",
   "metadata": {},
   "outputs": [
    {
     "name": "stdout",
     "output_type": "stream",
     "text": [
      "Test Accuracy: 0.7816\n"
     ]
    }
   ],
   "source": [
    "model.eval()\n",
    "correct = 0\n",
    "total = 0\n",
    "\n",
    "with torch.no_grad():\n",
    "    for inputs, targets in test_loader:\n",
    "        inputs, targets = inputs.to(device), targets.to(device)\n",
    "        outputs = model(inputs)\n",
    "        _, predicted = torch.max(outputs, 1)\n",
    "        total += targets.size(0)\n",
    "        correct += (predicted == targets).sum().item()\n",
    "\n",
    "accuracy = correct / total\n",
    "print(f\"Test Accuracy: {accuracy:.4f}\")"
   ]
  },
  {
   "cell_type": "code",
   "execution_count": 13,
   "id": "665b3ccb",
   "metadata": {},
   "outputs": [
    {
     "name": "stdout",
     "output_type": "stream",
     "text": [
      "Review: An absolute masterpiece with strong performances and a gripping story.\n",
      "Predicted sentiment: positive\n",
      "----------------------------------------\n",
      "Review: It was decent, but not as good as I expected.\n",
      "Predicted sentiment: positive\n",
      "----------------------------------------\n",
      "Review: I loved the cinematography and music!\n",
      "Predicted sentiment: positive\n",
      "----------------------------------------\n",
      "Review: The plot was too slow and boring for my taste.\n",
      "Predicted sentiment: negative\n",
      "----------------------------------------\n"
     ]
    }
   ],
   "source": [
    "def predict_sentiment(review, model, vocab, max_len=200):\n",
    "    model.eval()\n",
    "    review_clean = clean_text(review)\n",
    "    encoded = encode_review(review_clean, vocab)\n",
    "    length = len(encoded)\n",
    "    if length < max_len:\n",
    "        encoded += [0] * (max_len - length)\n",
    "    else:\n",
    "        encoded = encoded[:max_len]\n",
    "    tensor_review = torch.tensor(encoded, dtype=torch.long).unsqueeze(0).to(device)\n",
    "    with torch.no_grad():\n",
    "        output = model(tensor_review)\n",
    "        probs = torch.softmax(output, dim=1).cpu().numpy()[0]\n",
    "        pred_class = np.argmax(probs)\n",
    "    sentiment = label_encoder.inverse_transform([pred_class])[0]\n",
    "    return sentiment\n",
    "\n",
    "reviews = [\n",
    "    \"An absolute masterpiece with strong performances and a gripping story.\",\n",
    "    \"It was decent, but not as good as I expected.\",\n",
    "    \"I loved the cinematography and music!\",\n",
    "    \"The plot was too slow and boring for my taste.\"\n",
    "]\n",
    "\n",
    "for r in reviews:\n",
    "    print(\"Review:\", r)\n",
    "    print(\"Predicted sentiment:\", predict_sentiment(r, model, vocab))\n",
    "    print(\"-\" * 40)"
   ]
  },
  {
   "cell_type": "code",
   "execution_count": 14,
   "id": "a0c1bf0f",
   "metadata": {},
   "outputs": [
    {
     "data": {
      "image/png": "[encoded data removed]",
      "text/plain": [
       "<Figure size 600x500 with 2 Axes>"
      ]
     },
     "metadata": {},
     "output_type": "display_data"
    },
    {
     "name": "stdout",
     "output_type": "stream",
     "text": [
      "              precision    recall  f1-score   support\n",
      "\n",
      "    negative       0.80      0.74      0.77      4961\n",
      "    positive       0.76      0.82      0.79      5039\n",
      "\n",
      "    accuracy                           0.78     10000\n",
      "   macro avg       0.78      0.78      0.78     10000\n",
      "weighted avg       0.78      0.78      0.78     10000\n",
      "\n"
     ]
    }
   ],
   "source": [
    "from sklearn.metrics import confusion_matrix, classification_report\n",
    "import seaborn as sns\n",
    "import matplotlib.pyplot as plt\n",
    "\n",
    "model.eval()\n",
    "all_preds = []\n",
    "all_targets = []\n",
    "\n",
    "with torch.no_grad():\n",
    "    for inputs, targets in test_loader:\n",
    "        inputs, targets = inputs.to(device), targets.to(device)\n",
    "        outputs = model(inputs)\n",
    "        preds = torch.argmax(outputs, dim=1).cpu().numpy()\n",
    "        all_preds.extend(preds)\n",
    "        all_targets.extend(targets.cpu().numpy())\n",
    "\n",
    "cm = confusion_matrix(all_targets, all_preds)\n",
    "report = classification_report(all_targets, all_preds, target_names=label_encoder.classes_)\n",
    "\n",
    "plt.figure(figsize=(6,5))\n",
    "sns.heatmap(cm, annot=True, fmt=\"d\", cmap=\"Blues\", xticklabels=label_encoder.classes_, yticklabels=label_encoder.classes_)\n",
    "plt.xlabel('Predicted')\n",
    "plt.ylabel('Actual')\n",
    "plt.title('Confusion Matrix')\n",
    "plt.show()\n",
    "\n",
    "print(report)\n"
   ]
  },
  {
   "cell_type": "code",
   "execution_count": 15,
   "id": "c7090cb1",
   "metadata": {},
   "outputs": [],
   "source": [
    "# Step 13: Save model and artifacts using joblib, and create a simple app.py (Gradio UI)\n",
    "\n",
    "import joblib\n",
    "\n",
    "# Save vocab and label encoder using joblib\n",
    "joblib.dump(vocab, \"vocab.joblib\")\n",
    "joblib.dump(label_encoder, \"label_encoder.joblib\")\n",
    "\n",
    "# Save model weights (standard for PyTorch)\n",
    "torch.save(model.state_dict(), \"lstm_model.pt\")\n"
   ]
  }
 ],
 "metadata": {
  "kernelspec": {
   "display_name": "nsenv",
   "language": "python",
   "name": "python3"
  },
  "language_info": {
   "codemirror_mode": {
    "name": "ipython",
    "version": 3
   },
   "file_extension": ".py",
   "mimetype": "text/x-python",
   "name": "python",
   "nbconvert_exporter": "python",
   "pygments_lexer": "ipython3",
   "version": "3.10.19"
  }
 },
 "nbformat": 4,
 "nbformat_minor": 5
}
